{
 "cells": [
  {
   "cell_type": "code",
   "execution_count": 1,
   "metadata": {},
   "outputs": [],
   "source": [
    "import torch \n",
    "import torchvision \n",
    "import torch.nn as nn\n",
    "import torchvision.transforms as transforms\n",
    "import numpy as np"
   ]
  },
  {
   "cell_type": "code",
   "execution_count": 2,
   "metadata": {},
   "outputs": [],
   "source": [
    "#hyperparamter\n",
    "input_size = 28*28\n",
    "n_classes = 10 #output size\n",
    "learning_rate = 0.001\n",
    "hidden_size = 512\n",
    "batch_size = 32\n",
    "num_epochs = 5"
   ]
  },
  {
   "cell_type": "code",
   "execution_count": 3,
   "metadata": {},
   "outputs": [],
   "source": [
    "# dataset -FAshionMNIST\n",
    "\n",
    "train_dataset = torchvision.datasets.FashionMNIST(root=\"data/data/\",\n",
    "                                                  transform=transforms.ToTensor(),\n",
    "                                                  train=True,\n",
    "                                                  download=True)"
   ]
  },
  {
   "cell_type": "code",
   "execution_count": 4,
   "metadata": {},
   "outputs": [],
   "source": [
    "# dataset -FAshionMNIST\n",
    "\n",
    "test_dataset = torchvision.datasets.FashionMNIST(root=\"data/data/\",\n",
    "                                                  transform=transforms.ToTensor(),\n",
    "                                                  train=False)"
   ]
  },
  {
   "cell_type": "code",
   "execution_count": 5,
   "metadata": {},
   "outputs": [],
   "source": [
    "# data loader \n",
    "train_loader = torch.utils.data.DataLoader(dataset=train_dataset,\n",
    "                                           shuffle=True,\n",
    "                                           batch_size=batch_size)"
   ]
  },
  {
   "cell_type": "code",
   "execution_count": 6,
   "metadata": {},
   "outputs": [],
   "source": [
    "# test data loader \n",
    "test_loader = torch.utils.data.DataLoader(dataset=test_dataset,\n",
    "                                           batch_size=batch_size)"
   ]
  },
  {
   "cell_type": "code",
   "execution_count": 7,
   "metadata": {},
   "outputs": [],
   "source": [
    "# model \n",
    "class FeedForward(nn.Module):\n",
    "    def __init__(self, input_size, n_classes, hidden_size):\n",
    "        super(FeedForward, self).__init__()\n",
    "        self.fc1 = nn.Linear(input_size, hidden_size)\n",
    "        self.relu = nn.ReLU()\n",
    "        self.fc2 = nn.Linear(hidden_size, n_classes)\n",
    "    def forward(self,x):\n",
    "        out = self.fc1(x)\n",
    "        out = self.relu(out)\n",
    "        out = self.fc2(out)\n",
    "        return out "
   ]
  },
  {
   "cell_type": "code",
   "execution_count": 8,
   "metadata": {},
   "outputs": [],
   "source": [
    "model = FeedForward(input_size, n_classes, hidden_size)"
   ]
  },
  {
   "cell_type": "code",
   "execution_count": 9,
   "metadata": {},
   "outputs": [],
   "source": [
    "#loss and optimizer \n",
    "criterion = nn.CrossEntropyLoss()\n",
    "optimizer = torch.optim.Adam(model.parameters(),lr=learning_rate)"
   ]
  },
  {
   "cell_type": "code",
   "execution_count": 10,
   "metadata": {},
   "outputs": [
    {
     "name": "stdout",
     "output_type": "stream",
     "text": [
      "Epoch 1/5 Step 500/1875 : Loss 0.5962\n",
      "Epoch 1/5 Step 1000/1875 : Loss 0.3362\n",
      "Epoch 1/5 Step 1500/1875 : Loss 0.2992\n",
      "Epoch 2/5 Step 500/1875 : Loss 0.2429\n",
      "Epoch 2/5 Step 1000/1875 : Loss 0.5426\n",
      "Epoch 2/5 Step 1500/1875 : Loss 0.2334\n",
      "Epoch 3/5 Step 500/1875 : Loss 0.3212\n",
      "Epoch 3/5 Step 1000/1875 : Loss 0.6971\n",
      "Epoch 3/5 Step 1500/1875 : Loss 0.3913\n",
      "Epoch 4/5 Step 500/1875 : Loss 0.2047\n",
      "Epoch 4/5 Step 1000/1875 : Loss 0.2900\n",
      "Epoch 4/5 Step 1500/1875 : Loss 0.4703\n",
      "Epoch 5/5 Step 500/1875 : Loss 0.2819\n",
      "Epoch 5/5 Step 1000/1875 : Loss 0.1987\n",
      "Epoch 5/5 Step 1500/1875 : Loss 0.2045\n"
     ]
    }
   ],
   "source": [
    "total_size = len(train_loader)\n",
    "# Train the model\n",
    "for epoch in range(num_epochs):\n",
    "    for i,(images,labels) in enumerate(train_loader,0):\n",
    "        images = images.reshape(-1,input_size)\n",
    "        \n",
    "        #forward\n",
    "        outputs = model(images)\n",
    "        loss = criterion(outputs,labels)\n",
    "        \n",
    "        optimizer.zero_grad()\n",
    "        \n",
    "        #backpropagation\n",
    "        loss.backward()\n",
    "        optimizer.step()\n",
    "        \n",
    "        if (i+1)%500==0:\n",
    "            print(\"Epoch {}/{} Step {}/{} : Loss {:.4f}\".format(epoch+1,num_epochs,i+1, total_size,loss))"
   ]
  },
  {
   "cell_type": "code",
   "execution_count": 11,
   "metadata": {},
   "outputs": [
    {
     "name": "stdout",
     "output_type": "stream",
     "text": [
      "Accuracy : 88.00\n"
     ]
    }
   ],
   "source": [
    "# test the model\n",
    "with torch.no_grad():\n",
    "    correct = 0.0\n",
    "    total = 0.0\n",
    "    for images, labels in test_loader:\n",
    "        images = images.reshape(-1,input_size)\n",
    "        outputs = model(images)\n",
    "        _,prediction = torch.max(outputs,1)\n",
    "        total += labels.size(0)\n",
    "        correct += (prediction==labels).sum()\n",
    "    print(\"Accuracy : {:.2f}\".format((correct*100.0)/total))"
   ]
  },
  {
   "cell_type": "code",
   "execution_count": null,
   "metadata": {},
   "outputs": [],
   "source": []
  }
 ],
 "metadata": {
  "kernelspec": {
   "display_name": "Python 3",
   "language": "python",
   "name": "python3"
  },
  "language_info": {
   "codemirror_mode": {
    "name": "ipython",
    "version": 3
   },
   "file_extension": ".py",
   "mimetype": "text/x-python",
   "name": "python",
   "nbconvert_exporter": "python",
   "pygments_lexer": "ipython3",
   "version": "3.6.5"
  }
 },
 "nbformat": 4,
 "nbformat_minor": 2
}
