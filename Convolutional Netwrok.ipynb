{
 "cells": [
  {
   "cell_type": "code",
   "execution_count": 1,
   "metadata": {},
   "outputs": [],
   "source": [
    "import torch \n",
    "import torchvision \n",
    "import torch.nn as nn\n",
    "import torchvision.transforms as transforms\n",
    "import numpy as np"
   ]
  },
  {
   "cell_type": "code",
   "execution_count": 2,
   "metadata": {},
   "outputs": [],
   "source": [
    "device = torch.device('cuda:0' if torch.cuda.is_available() else 'cpu')"
   ]
  },
  {
   "cell_type": "code",
   "execution_count": 3,
   "metadata": {},
   "outputs": [],
   "source": [
    "#hyperparamter\n",
    "input_size = 28*28\n",
    "n_classes = 10 #output size\n",
    "learning_rate = 0.001\n",
    "batch_size = 64\n",
    "num_epochs = 5"
   ]
  },
  {
   "cell_type": "code",
   "execution_count": 4,
   "metadata": {},
   "outputs": [],
   "source": [
    "# dataset -FAshionMNIST\n",
    "\n",
    "train_dataset = torchvision.datasets.FashionMNIST(root=\"data/data/\",\n",
    "                                                  transform=transforms.ToTensor(),\n",
    "                                                  train=True,\n",
    "                                                  download=True)"
   ]
  },
  {
   "cell_type": "code",
   "execution_count": 5,
   "metadata": {},
   "outputs": [],
   "source": [
    "# dataset -FAshionMNIST\n",
    "\n",
    "test_dataset = torchvision.datasets.FashionMNIST(root=\"data/data/\",\n",
    "                                                  transform=transforms.ToTensor(),\n",
    "                                                  train=False)"
   ]
  },
  {
   "cell_type": "code",
   "execution_count": 6,
   "metadata": {},
   "outputs": [],
   "source": [
    "# data loader \n",
    "train_loader = torch.utils.data.DataLoader(dataset=train_dataset,\n",
    "                                           shuffle=True,\n",
    "                                           batch_size=batch_size)"
   ]
  },
  {
   "cell_type": "code",
   "execution_count": 7,
   "metadata": {},
   "outputs": [],
   "source": [
    "# test data loader \n",
    "test_loader = torch.utils.data.DataLoader(dataset=test_dataset,\n",
    "                                           batch_size=batch_size)"
   ]
  },
  {
   "cell_type": "code",
   "execution_count": 8,
   "metadata": {},
   "outputs": [],
   "source": [
    "# model \n",
    "class ConvNet(nn.Module):\n",
    "    def __init__(self, n_classes):\n",
    "        super(ConvNet,self).__init__()\n",
    "        # first conv layer \n",
    "         # size [32,1,28,28]\n",
    "        self.layer1 = nn.Sequential(\n",
    "            nn.Conv2d(1,16,kernel_size=3,stride=1,padding=1), # n-2k+p+1 = 28\n",
    "            nn.BatchNorm2d(16),\n",
    "            nn.ReLU(),\n",
    "            nn.MaxPool2d(kernel_size=2,stride=2)             #reudes by factor of 2\n",
    "        )\n",
    "        # size [32,16,14,14]\n",
    "        self.layer2 = nn.Sequential(\n",
    "            nn.Conv2d(16,32,kernel_size=3,stride=1,padding=1),\n",
    "            nn.BatchNorm2d(32),\n",
    "            nn.ReLU(),\n",
    "            nn.MaxPool2d(kernel_size=2,stride=2)        \n",
    "        )\n",
    "        #size  [32,32,7,7]\n",
    "        self.fc1 = nn.Linear(7*7*32,n_classes)\n",
    "    def forward(self,x):\n",
    "        out = self.layer1(x)\n",
    "        out = self.layer2(out)\n",
    "        out = out.reshape(out.size(0), -1)\n",
    "        out = self.fc1(out)\n",
    "        return out"
   ]
  },
  {
   "cell_type": "code",
   "execution_count": 9,
   "metadata": {},
   "outputs": [],
   "source": [
    "model = ConvNet(n_classes).to(device)"
   ]
  },
  {
   "cell_type": "code",
   "execution_count": 10,
   "metadata": {},
   "outputs": [],
   "source": [
    "#loss and optimizer \n",
    "criterion = nn.CrossEntropyLoss()\n",
    "optimizer = torch.optim.Adam(model.parameters(),lr=learning_rate)"
   ]
  },
  {
   "cell_type": "code",
   "execution_count": 11,
   "metadata": {},
   "outputs": [
    {
     "name": "stdout",
     "output_type": "stream",
     "text": [
      "Epoch 1/5 Step 500/938 : Loss 0.3663\n",
      "Epoch 2/5 Step 500/938 : Loss 0.2969\n",
      "Epoch 3/5 Step 500/938 : Loss 0.2184\n",
      "Epoch 4/5 Step 500/938 : Loss 0.3447\n",
      "Epoch 5/5 Step 500/938 : Loss 0.1985\n"
     ]
    }
   ],
   "source": [
    "total_size = len(train_loader)\n",
    "# Train the model\n",
    "for epoch in range(num_epochs):\n",
    "    for i,(images,labels) in enumerate(train_loader,0):\n",
    "        images = images.to(device)\n",
    "        labels = labels.to(device)\n",
    "            #forward\n",
    "        outputs = model(images)\n",
    "        loss = criterion(outputs,labels)\n",
    "        \n",
    "        optimizer.zero_grad()\n",
    "        \n",
    "        #backpropagation\n",
    "        loss.backward()\n",
    "        optimizer.step()\n",
    "        \n",
    "        if (i+1)%500==0:\n",
    "            print(\"Epoch {}/{} Step {}/{} : Loss {:.4f}\".format(epoch+1,num_epochs,i+1, total_size,loss))"
   ]
  },
  {
   "cell_type": "code",
   "execution_count": 12,
   "metadata": {},
   "outputs": [
    {
     "name": "stdout",
     "output_type": "stream",
     "text": [
      "Accuracy : 90.00\n"
     ]
    }
   ],
   "source": [
    "# test the model\n",
    "with torch.no_grad():\n",
    "    correct = 0.0\n",
    "    total = 0.0\n",
    "    for images, labels in test_loader:\n",
    "        images = images.to(device)\n",
    "        labels = labels.to(device)\n",
    "        outputs = model(images)\n",
    "        _,prediction = torch.max(outputs,1)\n",
    "        total += labels.size(0)\n",
    "        correct += (prediction==labels).sum()\n",
    "    print(\"Accuracy : {:.2f}\".format((correct*100.0)/total))"
   ]
  },
  {
   "cell_type": "code",
   "execution_count": null,
   "metadata": {},
   "outputs": [],
   "source": []
  }
 ],
 "metadata": {
  "kernelspec": {
   "display_name": "Python 2",
   "language": "python",
   "name": "python2"
  },
  "language_info": {
   "codemirror_mode": {
    "name": "ipython",
    "version": 2
   },
   "file_extension": ".py",
   "mimetype": "text/x-python",
   "name": "python",
   "nbconvert_exporter": "python",
   "pygments_lexer": "ipython2",
   "version": "2.7.5"
  }
 },
 "nbformat": 4,
 "nbformat_minor": 2
}
